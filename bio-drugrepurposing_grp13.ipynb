{
 "cells": [
  {
   "cell_type": "code",
   "execution_count": 337,
   "id": "2e1d36e8",
   "metadata": {},
   "outputs": [
    {
     "name": "stdout",
     "output_type": "stream",
     "text": [
      "Requirement already satisfied: torch in c:\\users\\diyad\\anaconda3\\lib\\site-packages (2.5.0)\n",
      "Requirement already satisfied: filelock in c:\\users\\diyad\\anaconda3\\lib\\site-packages (from torch) (3.9.0)\n",
      "Requirement already satisfied: typing-extensions>=4.8.0 in c:\\users\\diyad\\anaconda3\\lib\\site-packages (from torch) (4.12.2)\n",
      "Requirement already satisfied: networkx in c:\\users\\diyad\\anaconda3\\lib\\site-packages (from torch) (3.1)\n",
      "Requirement already satisfied: jinja2 in c:\\users\\diyad\\anaconda3\\lib\\site-packages (from torch) (3.1.2)\n",
      "Requirement already satisfied: fsspec in c:\\users\\diyad\\anaconda3\\lib\\site-packages (from torch) (2023.3.0)\n",
      "Requirement already satisfied: sympy==1.13.1 in c:\\users\\diyad\\anaconda3\\lib\\site-packages (from torch) (1.13.1)\n",
      "Requirement already satisfied: mpmath<1.4,>=1.1.0 in c:\\users\\diyad\\anaconda3\\lib\\site-packages (from sympy==1.13.1->torch) (1.3.0)\n",
      "Requirement already satisfied: MarkupSafe>=2.0 in c:\\users\\diyad\\anaconda3\\lib\\site-packages (from jinja2->torch) (2.1.1)\n"
     ]
    }
   ],
   "source": [
    "!pip install torch"
   ]
  },
  {
   "cell_type": "code",
   "execution_count": 338,
   "id": "fe436361",
   "metadata": {},
   "outputs": [
    {
     "name": "stdout",
     "output_type": "stream",
     "text": [
      "Requirement already satisfied: torch_geometric in c:\\users\\diyad\\anaconda3\\lib\\site-packages (2.6.1)\n",
      "Requirement already satisfied: aiohttp in c:\\users\\diyad\\anaconda3\\lib\\site-packages (from torch_geometric) (3.8.3)\n",
      "Requirement already satisfied: fsspec in c:\\users\\diyad\\anaconda3\\lib\\site-packages (from torch_geometric) (2023.3.0)\n",
      "Requirement already satisfied: jinja2 in c:\\users\\diyad\\anaconda3\\lib\\site-packages (from torch_geometric) (3.1.2)\n",
      "Requirement already satisfied: numpy in c:\\users\\diyad\\anaconda3\\lib\\site-packages (from torch_geometric) (1.24.3)\n",
      "Requirement already satisfied: psutil>=5.8.0 in c:\\users\\diyad\\anaconda3\\lib\\site-packages (from torch_geometric) (5.9.0)\n",
      "Requirement already satisfied: pyparsing in c:\\users\\diyad\\anaconda3\\lib\\site-packages (from torch_geometric) (3.0.9)\n",
      "Requirement already satisfied: requests in c:\\users\\diyad\\anaconda3\\lib\\site-packages (from torch_geometric) (2.31.0)\n",
      "Requirement already satisfied: tqdm in c:\\users\\diyad\\anaconda3\\lib\\site-packages (from torch_geometric) (4.65.0)\n",
      "Requirement already satisfied: attrs>=17.3.0 in c:\\users\\diyad\\anaconda3\\lib\\site-packages (from aiohttp->torch_geometric) (22.1.0)\n",
      "Requirement already satisfied: charset-normalizer<3.0,>=2.0 in c:\\users\\diyad\\anaconda3\\lib\\site-packages (from aiohttp->torch_geometric) (2.0.4)\n",
      "Requirement already satisfied: multidict<7.0,>=4.5 in c:\\users\\diyad\\anaconda3\\lib\\site-packages (from aiohttp->torch_geometric) (6.0.2)\n",
      "Requirement already satisfied: async-timeout<5.0,>=4.0.0a3 in c:\\users\\diyad\\anaconda3\\lib\\site-packages (from aiohttp->torch_geometric) (4.0.2)\n",
      "Requirement already satisfied: yarl<2.0,>=1.0 in c:\\users\\diyad\\anaconda3\\lib\\site-packages (from aiohttp->torch_geometric) (1.8.1)\n",
      "Requirement already satisfied: frozenlist>=1.1.1 in c:\\users\\diyad\\anaconda3\\lib\\site-packages (from aiohttp->torch_geometric) (1.3.3)\n",
      "Requirement already satisfied: aiosignal>=1.1.2 in c:\\users\\diyad\\anaconda3\\lib\\site-packages (from aiohttp->torch_geometric) (1.2.0)\n",
      "Requirement already satisfied: MarkupSafe>=2.0 in c:\\users\\diyad\\anaconda3\\lib\\site-packages (from jinja2->torch_geometric) (2.1.1)\n",
      "Requirement already satisfied: idna<4,>=2.5 in c:\\users\\diyad\\anaconda3\\lib\\site-packages (from requests->torch_geometric) (3.4)\n",
      "Requirement already satisfied: urllib3<3,>=1.21.1 in c:\\users\\diyad\\anaconda3\\lib\\site-packages (from requests->torch_geometric) (1.26.16)\n",
      "Requirement already satisfied: certifi>=2017.4.17 in c:\\users\\diyad\\anaconda3\\lib\\site-packages (from requests->torch_geometric) (2023.7.22)\n",
      "Requirement already satisfied: colorama in c:\\users\\diyad\\anaconda3\\lib\\site-packages (from tqdm->torch_geometric) (0.4.6)\n"
     ]
    }
   ],
   "source": [
    "!pip install torch_geometric"
   ]
  },
  {
   "cell_type": "code",
   "execution_count": 339,
   "id": "e3891102",
   "metadata": {},
   "outputs": [],
   "source": [
    "import torch\n",
    "import numpy as np\n",
    "import pandas as pd\n",
    "import random\n",
    "from sklearn import metrics\n",
    "from torch_geometric.data import Data\n",
    "from torch_geometric.nn import GCNConv\n",
    "from torch_geometric.transforms import RandomLinkSplit\n",
    "from torch_geometric.utils import degree\n",
    "from torch_geometric.utils import negative_sampling\n"
   ]
  },
  {
   "cell_type": "code",
   "execution_count": 340,
   "id": "54139a08",
   "metadata": {},
   "outputs": [],
   "source": [
    "data_path = \"drkg.tsv\"\n",
    "df = pd.read_csv(data_path, sep=\"\\t\")"
   ]
  },
  {
   "cell_type": "code",
   "execution_count": 341,
   "id": "63929d95",
   "metadata": {},
   "outputs": [
    {
     "data": {
      "text/plain": [
       "array(['bioarx::HumGenHumGen:Gene:Gene', 'bioarx::VirGenHumGen:Gene:Gene',\n",
       "       'bioarx::DrugVirGen:Compound:Gene',\n",
       "       'bioarx::DrugHumGen:Compound:Gene',\n",
       "       'bioarx::Covid2_acc_host_gene::Disease:Gene',\n",
       "       'bioarx::Coronavirus_ass_host_gene::Disease:Gene',\n",
       "       'DGIDB::INHIBITOR::Gene:Compound',\n",
       "       'DGIDB::ANTAGONIST::Gene:Compound', 'DGIDB::OTHER::Gene:Compound',\n",
       "       'DGIDB::AGONIST::Gene:Compound', 'DGIDB::BINDER::Gene:Compound',\n",
       "       'DGIDB::MODULATOR::Gene:Compound', 'DGIDB::BLOCKER::Gene:Compound',\n",
       "       'DGIDB::CHANNEL BLOCKER::Gene:Compound',\n",
       "       'DGIDB::ANTIBODY::Gene:Compound',\n",
       "       'DGIDB::POSITIVE ALLOSTERIC MODULATOR::Gene:Compound',\n",
       "       'DGIDB::ALLOSTERIC MODULATOR::Gene:Compound',\n",
       "       'DGIDB::ACTIVATOR::Gene:Compound',\n",
       "       'DGIDB::PARTIAL AGONIST::Gene:Compound',\n",
       "       'DRUGBANK::x-atc::Compound:Atc',\n",
       "       'DRUGBANK::ddi-interactor-in::Compound:Compound',\n",
       "       'DRUGBANK::target::Compound:Gene',\n",
       "       'DRUGBANK::enzyme::Compound:Gene',\n",
       "       'DRUGBANK::carrier::Compound:Gene',\n",
       "       'DRUGBANK::treats::Compound:Disease', 'GNBR::E::Compound:Gene',\n",
       "       'GNBR::A+::Compound:Gene', 'GNBR::N::Compound:Gene',\n",
       "       'GNBR::K::Compound:Gene', 'GNBR::A-::Compound:Gene',\n",
       "       'GNBR::E+::Compound:Gene', 'GNBR::B::Compound:Gene',\n",
       "       'GNBR::E-::Compound:Gene', 'GNBR::O::Compound:Gene',\n",
       "       'GNBR::Z::Compound:Gene', 'GNBR::T::Compound:Disease',\n",
       "       'GNBR::C::Compound:Disease', 'GNBR::Sa::Compound:Disease',\n",
       "       'GNBR::Pa::Compound:Disease', 'GNBR::Mp::Compound:Disease',\n",
       "       'GNBR::Pr::Compound:Disease', 'GNBR::J::Compound:Disease',\n",
       "       'GNBR::L::Gene:Disease', 'GNBR::U::Gene:Disease',\n",
       "       'GNBR::Y::Gene:Disease', 'GNBR::J::Gene:Disease',\n",
       "       'GNBR::Te::Gene:Disease', 'GNBR::Md::Gene:Disease',\n",
       "       'GNBR::G::Gene:Disease', 'GNBR::D::Gene:Disease',\n",
       "       'GNBR::X::Gene:Disease', 'GNBR::Ud::Gene:Disease',\n",
       "       'GNBR::V+::Gene:Gene', 'GNBR::Q::Gene:Gene', 'GNBR::Rg::Gene:Gene',\n",
       "       'GNBR::B::Gene:Gene', 'GNBR::I::Gene:Gene', 'GNBR::E+::Gene:Gene',\n",
       "       'GNBR::H::Gene:Gene', 'GNBR::W::Gene:Gene', 'GNBR::E::Gene:Gene',\n",
       "       'GNBR::in_tax::Gene:Tax',\n",
       "       'Hetionet::GpBP::Gene:Biological Process',\n",
       "       'Hetionet::GiG::Gene:Gene', 'Hetionet::CrC::Compound:Compound',\n",
       "       'Hetionet::DdG::Disease:Gene', 'Hetionet::DpS::Disease:Symptom',\n",
       "       'Hetionet::DlA::Disease:Anatomy',\n",
       "       'Hetionet::CtD::Compound:Disease', 'Hetionet::CbG::Compound:Gene',\n",
       "       'Hetionet::CuG::Compound:Gene', 'Hetionet::DrD::Disease:Disease',\n",
       "       'Hetionet::DaG::Disease:Gene', 'Hetionet::CpD::Compound:Disease',\n",
       "       'Hetionet::AdG::Anatomy:Gene', 'Hetionet::AuG::Anatomy:Gene',\n",
       "       'Hetionet::GcG::Gene:Gene',\n",
       "       'Hetionet::GpMF::Gene:Molecular Function',\n",
       "       'Hetionet::PCiC::Pharmacologic Class:Compound',\n",
       "       'Hetionet::GpCC::Gene:Cellular Component',\n",
       "       'Hetionet::Gr>G::Gene:Gene', 'Hetionet::CdG::Compound:Gene',\n",
       "       'Hetionet::DuG::Disease:Gene', 'Hetionet::GpPW::Gene:Pathway',\n",
       "       'Hetionet::CcSE::Compound:Side Effect',\n",
       "       'Hetionet::AeG::Anatomy:Gene',\n",
       "       'INTACT::PHYSICAL ASSOCIATION::Compound:Gene',\n",
       "       'INTACT::DIRECT INTERACTION::Compound:Gene',\n",
       "       'INTACT::ASSOCIATION::Compound:Gene',\n",
       "       'INTACT::ASSOCIATION::Gene:Gene',\n",
       "       'INTACT::PHYSICAL ASSOCIATION::Gene:Gene',\n",
       "       'INTACT::COLOCALIZATION::Gene:Gene',\n",
       "       'INTACT::DEPHOSPHORYLATION REACTION::Gene:Gene',\n",
       "       'INTACT::CLEAVAGE REACTION::Gene:Gene',\n",
       "       'INTACT::DIRECT INTERACTION::Gene:Gene',\n",
       "       'INTACT::PHOSPHORYLATION REACTION::Gene:Gene',\n",
       "       'INTACT::ADP RIBOSYLATION REACTION::Gene:Gene',\n",
       "       'INTACT::UBIQUITINATION REACTION::Gene:Gene',\n",
       "       'INTACT::PROTEIN CLEAVAGE::Gene:Gene',\n",
       "       'STRING::REACTION::Gene:Gene', 'STRING::CATALYSIS::Gene:Gene',\n",
       "       'STRING::ACTIVATION::Gene:Gene', 'STRING::INHIBITION::Gene:Gene',\n",
       "       'STRING::OTHER::Gene:Gene', 'STRING::BINDING::Gene:Gene',\n",
       "       'STRING::PTMOD::Gene:Gene', 'STRING::EXPRESSION::Gene:Gene'],\n",
       "      dtype=object)"
      ]
     },
     "execution_count": 341,
     "metadata": {},
     "output_type": "execute_result"
    }
   ],
   "source": [
    "df['bioarx::HumGenHumGen:Gene:Gene'].unique()"
   ]
  },
  {
   "cell_type": "code",
   "execution_count": 342,
   "id": "adca5d88",
   "metadata": {},
   "outputs": [],
   "source": [
    "temp_graph = df[(df['bioarx::HumGenHumGen:Gene:Gene'].str.contains('Compound:Disease')) | (df['bioarx::HumGenHumGen:Gene:Gene'].str.contains('Disease:Compound')) | (df['bioarx::HumGenHumGen:Gene:Gene'].str.contains('Compound:Gene')) | (df['bioarx::HumGenHumGen:Gene:Gene'].str.contains('Gene:Compound')) | (df['bioarx::HumGenHumGen:Gene:Gene'].str.contains('Disease:Gene')) | (df['bioarx::HumGenHumGen:Gene:Gene'].str.contains('Gene:Disease'))]"
   ]
  },
  {
   "cell_type": "code",
   "execution_count": 343,
   "id": "e79c0bfc",
   "metadata": {},
   "outputs": [
    {
     "data": {
      "text/html": [
       "<div>\n",
       "<style scoped>\n",
       "    .dataframe tbody tr th:only-of-type {\n",
       "        vertical-align: middle;\n",
       "    }\n",
       "\n",
       "    .dataframe tbody tr th {\n",
       "        vertical-align: top;\n",
       "    }\n",
       "\n",
       "    .dataframe thead th {\n",
       "        text-align: right;\n",
       "    }\n",
       "</style>\n",
       "<table border=\"1\" class=\"dataframe\">\n",
       "  <thead>\n",
       "    <tr style=\"text-align: right;\">\n",
       "      <th></th>\n",
       "      <th>Gene::2157</th>\n",
       "      <th>bioarx::HumGenHumGen:Gene:Gene</th>\n",
       "      <th>Gene::2157.1</th>\n",
       "    </tr>\n",
       "  </thead>\n",
       "  <tbody>\n",
       "    <tr>\n",
       "      <th>58628</th>\n",
       "      <td>Compound::DB02573</td>\n",
       "      <td>bioarx::DrugVirGen:Compound:Gene</td>\n",
       "      <td>Gene::NVA376</td>\n",
       "    </tr>\n",
       "    <tr>\n",
       "      <th>58629</th>\n",
       "      <td>Compound::DB05105</td>\n",
       "      <td>bioarx::DrugVirGen:Compound:Gene</td>\n",
       "      <td>Gene::NVA193</td>\n",
       "    </tr>\n",
       "    <tr>\n",
       "      <th>58630</th>\n",
       "      <td>Compound::DB05105</td>\n",
       "      <td>bioarx::DrugVirGen:Compound:Gene</td>\n",
       "      <td>Gene::NVA345</td>\n",
       "    </tr>\n",
       "    <tr>\n",
       "      <th>58631</th>\n",
       "      <td>Compound::DB00244</td>\n",
       "      <td>bioarx::DrugVirGen:Compound:Gene</td>\n",
       "      <td>Gene::NVA298</td>\n",
       "    </tr>\n",
       "    <tr>\n",
       "      <th>58632</th>\n",
       "      <td>Compound::DB00684</td>\n",
       "      <td>bioarx::DrugVirGen:Compound:Gene</td>\n",
       "      <td>Gene::NVA175</td>\n",
       "    </tr>\n",
       "    <tr>\n",
       "      <th>...</th>\n",
       "      <td>...</td>\n",
       "      <td>...</td>\n",
       "      <td>...</td>\n",
       "    </tr>\n",
       "    <tr>\n",
       "      <th>4123201</th>\n",
       "      <td>Compound::DB00619</td>\n",
       "      <td>INTACT::PHYSICAL ASSOCIATION::Compound:Gene</td>\n",
       "      <td>Gene::780</td>\n",
       "    </tr>\n",
       "    <tr>\n",
       "      <th>4123202</th>\n",
       "      <td>Compound::DB00619</td>\n",
       "      <td>INTACT::PHYSICAL ASSOCIATION::Compound:Gene</td>\n",
       "      <td>Gene::84959</td>\n",
       "    </tr>\n",
       "    <tr>\n",
       "      <th>4123203</th>\n",
       "      <td>Compound::CHEMBL9506</td>\n",
       "      <td>INTACT::PHYSICAL ASSOCIATION::Compound:Gene</td>\n",
       "      <td>Gene::886</td>\n",
       "    </tr>\n",
       "    <tr>\n",
       "      <th>4123204</th>\n",
       "      <td>Compound::DB01037</td>\n",
       "      <td>INTACT::PHYSICAL ASSOCIATION::Compound:Gene</td>\n",
       "      <td>Gene::4129</td>\n",
       "    </tr>\n",
       "    <tr>\n",
       "      <th>4123205</th>\n",
       "      <td>Compound::DB00670</td>\n",
       "      <td>INTACT::PHYSICAL ASSOCIATION::Compound:Gene</td>\n",
       "      <td>Gene::1128</td>\n",
       "    </tr>\n",
       "  </tbody>\n",
       "</table>\n",
       "<p>418526 rows × 3 columns</p>\n",
       "</div>"
      ],
      "text/plain": [
       "                   Gene::2157               bioarx::HumGenHumGen:Gene:Gene  \\\n",
       "58628       Compound::DB02573             bioarx::DrugVirGen:Compound:Gene   \n",
       "58629       Compound::DB05105             bioarx::DrugVirGen:Compound:Gene   \n",
       "58630       Compound::DB05105             bioarx::DrugVirGen:Compound:Gene   \n",
       "58631       Compound::DB00244             bioarx::DrugVirGen:Compound:Gene   \n",
       "58632       Compound::DB00684             bioarx::DrugVirGen:Compound:Gene   \n",
       "...                       ...                                          ...   \n",
       "4123201     Compound::DB00619  INTACT::PHYSICAL ASSOCIATION::Compound:Gene   \n",
       "4123202     Compound::DB00619  INTACT::PHYSICAL ASSOCIATION::Compound:Gene   \n",
       "4123203  Compound::CHEMBL9506  INTACT::PHYSICAL ASSOCIATION::Compound:Gene   \n",
       "4123204     Compound::DB01037  INTACT::PHYSICAL ASSOCIATION::Compound:Gene   \n",
       "4123205     Compound::DB00670  INTACT::PHYSICAL ASSOCIATION::Compound:Gene   \n",
       "\n",
       "         Gene::2157.1  \n",
       "58628    Gene::NVA376  \n",
       "58629    Gene::NVA193  \n",
       "58630    Gene::NVA345  \n",
       "58631    Gene::NVA298  \n",
       "58632    Gene::NVA175  \n",
       "...               ...  \n",
       "4123201     Gene::780  \n",
       "4123202   Gene::84959  \n",
       "4123203     Gene::886  \n",
       "4123204    Gene::4129  \n",
       "4123205    Gene::1128  \n",
       "\n",
       "[418526 rows x 3 columns]"
      ]
     },
     "execution_count": 343,
     "metadata": {},
     "output_type": "execute_result"
    }
   ],
   "source": [
    "temp_graph"
   ]
  },
  {
   "cell_type": "code",
   "execution_count": 344,
   "id": "c75d8858",
   "metadata": {},
   "outputs": [],
   "source": [
    "combination_graph = pd.DataFrame({'source_node':[],'destination_node':[]})\n",
    "combination_graph['source_node'] = temp_graph['Gene::2157']\n",
    "combination_graph['destination_node'] = temp_graph['Gene::2157.1']"
   ]
  },
  {
   "cell_type": "code",
   "execution_count": 345,
   "id": "7a033bac",
   "metadata": {},
   "outputs": [
    {
     "data": {
      "text/html": [
       "<div>\n",
       "<style scoped>\n",
       "    .dataframe tbody tr th:only-of-type {\n",
       "        vertical-align: middle;\n",
       "    }\n",
       "\n",
       "    .dataframe tbody tr th {\n",
       "        vertical-align: top;\n",
       "    }\n",
       "\n",
       "    .dataframe thead th {\n",
       "        text-align: right;\n",
       "    }\n",
       "</style>\n",
       "<table border=\"1\" class=\"dataframe\">\n",
       "  <thead>\n",
       "    <tr style=\"text-align: right;\">\n",
       "      <th></th>\n",
       "      <th>source_node</th>\n",
       "      <th>destination_node</th>\n",
       "    </tr>\n",
       "  </thead>\n",
       "  <tbody>\n",
       "    <tr>\n",
       "      <th>58628</th>\n",
       "      <td>Compound::DB02573</td>\n",
       "      <td>Gene::NVA376</td>\n",
       "    </tr>\n",
       "    <tr>\n",
       "      <th>58629</th>\n",
       "      <td>Compound::DB05105</td>\n",
       "      <td>Gene::NVA193</td>\n",
       "    </tr>\n",
       "    <tr>\n",
       "      <th>58630</th>\n",
       "      <td>Compound::DB05105</td>\n",
       "      <td>Gene::NVA345</td>\n",
       "    </tr>\n",
       "    <tr>\n",
       "      <th>58631</th>\n",
       "      <td>Compound::DB00244</td>\n",
       "      <td>Gene::NVA298</td>\n",
       "    </tr>\n",
       "    <tr>\n",
       "      <th>58632</th>\n",
       "      <td>Compound::DB00684</td>\n",
       "      <td>Gene::NVA175</td>\n",
       "    </tr>\n",
       "    <tr>\n",
       "      <th>...</th>\n",
       "      <td>...</td>\n",
       "      <td>...</td>\n",
       "    </tr>\n",
       "    <tr>\n",
       "      <th>4123201</th>\n",
       "      <td>Compound::DB00619</td>\n",
       "      <td>Gene::780</td>\n",
       "    </tr>\n",
       "    <tr>\n",
       "      <th>4123202</th>\n",
       "      <td>Compound::DB00619</td>\n",
       "      <td>Gene::84959</td>\n",
       "    </tr>\n",
       "    <tr>\n",
       "      <th>4123203</th>\n",
       "      <td>Compound::CHEMBL9506</td>\n",
       "      <td>Gene::886</td>\n",
       "    </tr>\n",
       "    <tr>\n",
       "      <th>4123204</th>\n",
       "      <td>Compound::DB01037</td>\n",
       "      <td>Gene::4129</td>\n",
       "    </tr>\n",
       "    <tr>\n",
       "      <th>4123205</th>\n",
       "      <td>Compound::DB00670</td>\n",
       "      <td>Gene::1128</td>\n",
       "    </tr>\n",
       "  </tbody>\n",
       "</table>\n",
       "<p>418526 rows × 2 columns</p>\n",
       "</div>"
      ],
      "text/plain": [
       "                  source_node destination_node\n",
       "58628       Compound::DB02573     Gene::NVA376\n",
       "58629       Compound::DB05105     Gene::NVA193\n",
       "58630       Compound::DB05105     Gene::NVA345\n",
       "58631       Compound::DB00244     Gene::NVA298\n",
       "58632       Compound::DB00684     Gene::NVA175\n",
       "...                       ...              ...\n",
       "4123201     Compound::DB00619        Gene::780\n",
       "4123202     Compound::DB00619      Gene::84959\n",
       "4123203  Compound::CHEMBL9506        Gene::886\n",
       "4123204     Compound::DB01037       Gene::4129\n",
       "4123205     Compound::DB00670       Gene::1128\n",
       "\n",
       "[418526 rows x 2 columns]"
      ]
     },
     "execution_count": 345,
     "metadata": {},
     "output_type": "execute_result"
    }
   ],
   "source": [
    "combination_graph"
   ]
  },
  {
   "cell_type": "code",
   "execution_count": 346,
   "id": "5d3b4749",
   "metadata": {},
   "outputs": [],
   "source": [
    "def load_node_mapping(df, source_node, destination_node, category, offset=0):\n",
    "    seta = list(df[(df[source_node].str.contains(category))][source_node].unique())\n",
    "    setb = list(df[(df[destination_node].str.contains(category))][destination_node].unique())\n",
    "    nodes = list(set(seta+setb))\n",
    "    mapping = {index_id: i + offset for i, index_id in enumerate(nodes)}\n",
    "    return mapping\n",
    "\n",
    "def load_edge_list(df, src_col, dz_mapping, dst_col, compound_mapping,gene_mapping):\n",
    "\n",
    "    src_nodes = []\n",
    "    for i in df[src_col]:\n",
    "        if 'Compound' in i:\n",
    "            src_nodes.append(compound_mapping[i])\n",
    "        elif 'Gene' in i:\n",
    "            src_nodes.append(gene_mapping[i])\n",
    "        elif 'Disease' in i:\n",
    "            src_nodes.append(dz_mapping[i])\n",
    "            \n",
    "    dst_nodes = []\n",
    "    for i in df[dst_col]:\n",
    "        if 'Compound' in i:\n",
    "            dst_nodes.append(compound_mapping[i])\n",
    "        elif 'Gene' in i:\n",
    "            dst_nodes.append(gene_mapping[i])\n",
    "        elif 'Disease' in i:\n",
    "            dst_nodes.append(dz_mapping[i])\n",
    "            \n",
    "    edge_index = torch.tensor([src_nodes, dst_nodes])\n",
    "    return edge_index\n",
    "\n",
    "def initialize_data(df, num_features=1):\n",
    "    source_node, destination_node = \"source_node\", \"destination_node\"\n",
    "    dz_mapping = load_node_mapping(df, source_node, destination_node, 'Disease', offset=0)\n",
    "    compound_mapping = load_node_mapping(df, source_node, destination_node,'Compound', offset=5070)\n",
    "    gene_mapping = load_node_mapping(df, source_node, destination_node,'Gene', offset=5070+23311)\n",
    "\n",
    "  # Get edge index in terms of the integer indeces assigned to the nodes.\n",
    "    edge_index = load_edge_list(df, source_node, dz_mapping, destination_node, compound_mapping,gene_mapping)\n",
    "\n",
    "  # Add the reverse direction (aka make it a undirected graph)\n",
    "    rev_edge_index = load_edge_list(df, destination_node, dz_mapping, source_node,  compound_mapping,gene_mapping)\n",
    "\n",
    "\n",
    "  # Construct a Data object.\n",
    "    data = Data()\n",
    "    data.num_nodes = len(dz_mapping) + len(compound_mapping) + len(gene_mapping)\n",
    "    data.edge_index = torch.cat((edge_index, rev_edge_index), dim=1)\n",
    "    data.x = torch.ones((data.num_nodes, num_features))\n",
    "\n",
    "    return data, compound_mapping, dz_mapping, gene_mapping"
   ]
  },
  {
   "cell_type": "code",
   "execution_count": 347,
   "id": "eb980f53",
   "metadata": {},
   "outputs": [
    {
     "name": "stdout",
     "output_type": "stream",
     "text": [
      "Data(num_nodes=59743, edge_index=[2, 837052], x=[59743, 1])\n",
      "Number of Compounds: 23311\n",
      "Number of Diseases: 5070\n",
      "Number of Genes: 31362\n"
     ]
    }
   ],
   "source": [
    "data_object, compound_mapping, dz_mapping, gene_mapping = initialize_data(combination_graph)\n",
    "print(data_object)\n",
    "print(\"Number of Compounds:\", len(compound_mapping))\n",
    "print(\"Number of Diseases:\", len(dz_mapping))\n",
    "print(\"Number of Genes:\", len(gene_mapping))"
   ]
  },
  {
   "cell_type": "code",
   "execution_count": 348,
   "id": "b7a58935",
   "metadata": {},
   "outputs": [
    {
     "data": {
      "text/plain": [
       "(23311, 5070, 31362)"
      ]
     },
     "execution_count": 348,
     "metadata": {},
     "output_type": "execute_result"
    }
   ],
   "source": [
    "len(compound_mapping),len(dz_mapping),len(gene_mapping)"
   ]
  },
  {
   "cell_type": "code",
   "execution_count": 349,
   "id": "9475874d",
   "metadata": {},
   "outputs": [
    {
     "name": "stdout",
     "output_type": "stream",
     "text": [
      "tensor([[27313, 13758, 13758,  ..., 57332, 56767, 42142],\n",
      "        [49131, 52019, 38824,  ..., 17187, 26513, 24099]])\n"
     ]
    }
   ],
   "source": [
    "print(data_object.edge_index)"
   ]
  },
  {
   "cell_type": "code",
   "execution_count": 350,
   "id": "89a21296",
   "metadata": {},
   "outputs": [
    {
     "name": "stdout",
     "output_type": "stream",
     "text": [
      "Disease Nodes of highest degree\n",
      "node_index=4803 node_degree=8156 Disease::MESH:D009369\n",
      "node_index=3367 node_degree=3428 Disease::MESH:D001943\n",
      "node_index=1643 node_degree=2679 Disease::MESH:D006528\n",
      "node_index=2086 node_degree=2677 Disease::MESH:D015179\n",
      "node_index=4237 node_degree=2551 Disease::MESH:D011471\n",
      "node_index=334 node_degree=2463 Disease::MESH:D008545\n",
      "node_index=3228 node_degree=2400 Disease::MESH:D013274\n",
      "node_index=1280 node_degree=2139 Disease::MESH:D064420\n",
      "node_index=1316 node_degree=2034 Disease::MESH:D010190\n",
      "node_index=1301 node_degree=2007 Disease::MESH:D010051\n",
      "\n",
      "Gene Nodes of highest degree\n",
      "node_index=55672 node_degree=2483 Gene::1576\n",
      "node_index=46152 node_degree=1213 Gene::1565\n",
      "node_index=58050 node_degree=1166 Gene::5243\n",
      "node_index=38535 node_degree=1126 Gene::3630\n",
      "node_index=55287 node_degree=1093 Gene::7124\n",
      "node_index=48561 node_degree=1041 Gene::1559\n",
      "node_index=34537 node_degree=987 Gene::213\n",
      "node_index=42056 node_degree=986 Gene::1544\n",
      "node_index=52031 node_degree=910 Gene::5743\n",
      "node_index=38220 node_degree=833 Gene::1557\n",
      "\n",
      "Compound Nodes of highest degree\n",
      "node_index=9474 node_degree=2164 Compound::DB09341\n",
      "node_index=27769 node_degree=1611 Compound::DB01234\n",
      "node_index=6197 node_degree=1604 Compound::DB01373\n",
      "node_index=14509 node_degree=1438 Compound::CHEBI:33704\n",
      "node_index=8856 node_degree=1378 Compound::DB00898\n",
      "node_index=13349 node_degree=1369 Compound::CHEBI:18186\n",
      "node_index=11160 node_degree=1139 Compound::DB00997\n",
      "node_index=15591 node_degree=1110 Compound::DB09140\n",
      "node_index=19399 node_degree=1090 Compound::MESH:D004967\n",
      "node_index=13980 node_degree=1079 Compound::DB01593\n"
     ]
    }
   ],
   "source": [
    "reverse_dz_mapping = {j: i for i,j in dz_mapping.items()}\n",
    "reverse_gene_mapping = {j: i for i,j in gene_mapping.items()}\n",
    "reverse_compound_mapping = {j: i for i,j in compound_mapping.items()}\n",
    "\n",
    "degrees = degree(data_object.edge_index[0]).numpy()\n",
    "sorted_degrees_i = np.argsort(-1* degrees)\n",
    "\n",
    "print(\"Disease Nodes of highest degree\")\n",
    "top_k = 10\n",
    "num_dz_nodes = 0\n",
    "for i in sorted_degrees_i:\n",
    "    if i < 5070:   \n",
    "        node_id = reverse_dz_mapping[i]\n",
    "        node_degree = degrees[i]\n",
    "        print(\"node_index=\" + str(i), \"node_degree=\" + str(int(node_degree)),node_id)\n",
    "        num_dz_nodes += 1\n",
    "        if num_dz_nodes >= top_k:\n",
    "            break\n",
    "\n",
    "print(\"\\nGene Nodes of highest degree\")\n",
    "num_gene_nodes = 0\n",
    "for i in sorted_degrees_i:\n",
    "    if i >= 5070+23311:\n",
    "        node_id = reverse_gene_mapping[i]\n",
    "        node_degree = degrees[i]\n",
    "        print(\"node_index=\" + str(i), \"node_degree=\" + str(int(node_degree)), node_id)\n",
    "        num_gene_nodes += 1\n",
    "        if num_gene_nodes >= top_k:\n",
    "              break\n",
    "    \n",
    "print(\"\\nCompound Nodes of highest degree\")\n",
    "num_gene_nodes = 0\n",
    "for i in sorted_degrees_i:\n",
    "    if 5070+23311>i >= 5070:\n",
    "        node_id = reverse_compound_mapping[i]\n",
    "        node_degree = degrees[i]\n",
    "        print(\"node_index=\" + str(i), \"node_degree=\" + str(int(node_degree)), node_id)\n",
    "        num_gene_nodes += 1\n",
    "        if num_gene_nodes >= top_k:\n",
    "            break"
   ]
  },
  {
   "cell_type": "code",
   "execution_count": 351,
   "id": "4d5e234f",
   "metadata": {},
   "outputs": [
    {
     "name": "stdout",
     "output_type": "stream",
     "text": [
      "Using dummy embeddings as initial node features.\n",
      "Number of features set to  20\n"
     ]
    }
   ],
   "source": [
    "NUM_FEATURES =   20\n",
    "data_object.x = torch.ones((data_object.num_nodes, NUM_FEATURES))\n",
    "print(\"Using dummy embeddings as initial node features.\")\n",
    "print(\"Number of features set to \", NUM_FEATURES)"
   ]
  },
  {
   "cell_type": "code",
   "execution_count": 352,
   "id": "276e070c",
   "metadata": {},
   "outputs": [],
   "source": [
    "import torch\n",
    "import torch.nn.functional as F\n",
    "from torch_geometric.nn import GCNConv\n",
    "\n",
    "class GCN(torch.nn.Module):\n",
    "    def __init__(self, in_channels, hidden_channels, out_channels):\n",
    "        super(GCN, self).__init__()\n",
    "        self.conv1 = GCNConv(in_channels, hidden_channels)\n",
    "        self.conv2 = GCNConv(hidden_channels, out_channels)\n",
    "\n",
    "    def forward(self, data):\n",
    "        x, edge_index = data.x, data.edge_index\n",
    "        # First layer with ReLU activation\n",
    "        x = self.conv1(x, edge_index)\n",
    "        x = F.relu(x)\n",
    "        # Second layer (output layer)\n",
    "        x = self.conv2(x, edge_index)\n",
    "        return x"
   ]
  },
  {
   "cell_type": "code",
   "execution_count": 387,
   "id": "db86f5cf",
   "metadata": {},
   "outputs": [],
   "source": [
    "# Model parameters\n",
    "NUM_FEATURES=20\n",
    "in_channels = NUM_FEATURES  # Number of input features per node\n",
    "hidden_channels = 64  # Size of the hidden layer\n",
    "out_channels = 32  # Size of the output layer\n",
    "\n",
    "# Initialize the model and move it to GPU if available\n",
    "model = GCN(in_channels, hidden_channels, out_channels)\n",
    "#data_object = data_object.to(device)\n",
    "\n",
    "# Define the optimizer and loss function\n",
    "optimizer = torch.optim.Adam(model.parameters(), lr=0.001, weight_decay=5e-4)\n",
    "criterion = torch.nn.BCEWithLogitsLoss()  # Suitable for binary classification (link prediction)"
   ]
  },
  {
   "cell_type": "code",
   "execution_count": 388,
   "id": "ebd746e9",
   "metadata": {},
   "outputs": [],
   "source": [
    "# Apply the RandomLinkSplit transformation to create train, validation, and test splits\n",
    "from torch_geometric.transforms import RandomLinkSplit\n",
    "\n",
    "transform = RandomLinkSplit(num_val=0.1, num_test=0.1, is_undirected=True, add_negative_train_samples=True)\n",
    "train_data, val_data, test_data = transform(data_object)\n",
    "\n",
    "\n",
    "# If pos_edge_label_index and neg_edge_label_index are missing, we may need to add them manually\n",
    "def add_pos_neg_edges(data):\n",
    "    # Positive edges\n",
    "    data.pos_edge_label_index = data.edge_index\n",
    "    \n",
    "    # Generate negative samples\n",
    "    data.neg_edge_label_index = negative_sampling(\n",
    "        edge_index=data.edge_index,\n",
    "        num_nodes=data.num_nodes,\n",
    "        num_neg_samples=data.edge_index.size(1),\n",
    "        method='sparse'\n",
    "    )\n",
    "    return data\n",
    "\n",
    "# Apply this function to add attributes if they are missing\n",
    "if not hasattr(train_data, 'pos_edge_label_index'):\n",
    "    train_data = add_pos_neg_edges(train_data)\n",
    "if not hasattr(val_data, 'pos_edge_label_index'):\n",
    "    val_data = add_pos_neg_edges(val_data)\n",
    "if not hasattr(test_data, 'pos_edge_label_index'):\n",
    "    test_data = add_pos_neg_edges(test_data)"
   ]
  },
  {
   "cell_type": "code",
   "execution_count": 389,
   "id": "c87ec917",
   "metadata": {},
   "outputs": [],
   "source": [
    "def train():\n",
    "    model.train()\n",
    "    optimizer.zero_grad()\n",
    "    \n",
    "    # Forward pass\n",
    "    z = model(train_data)\n",
    "    \n",
    "    # Positive and negative edges for training\n",
    "    pos_edge_index = train_data.pos_edge_label_index\n",
    "    neg_edge_index = train_data.neg_edge_label_index\n",
    "    \n",
    "    # Calculate link prediction loss\n",
    "    pos_out = (z[pos_edge_index[0]] * z[pos_edge_index[1]]).sum(dim=1)\n",
    "    neg_out = (z[neg_edge_index[0]] * z[neg_edge_index[1]]).sum(dim=1)\n",
    "    \n",
    "    # Create labels for positive and negative edges\n",
    "    pos_label = torch.ones(pos_out.size(0))\n",
    "    neg_label = torch.zeros(neg_out.size(0))\n",
    "    \n",
    "    # Concatenate outputs and labels\n",
    "    out = torch.cat([pos_out, neg_out], dim=0)\n",
    "    label = torch.cat([pos_label, neg_label], dim=0)\n",
    "    \n",
    "    # Compute loss\n",
    "    loss = criterion(out, label)\n",
    "    loss.backward()\n",
    "    optimizer.step()\n",
    "    \n",
    "    return loss.item()"
   ]
  },
  {
   "cell_type": "code",
   "execution_count": 390,
   "id": "0df2fc8c",
   "metadata": {},
   "outputs": [],
   "source": [
    "@torch.no_grad()\n",
    "def test(data):\n",
    "    model.eval()\n",
    "    z = model(data)\n",
    "    \n",
    "    pos_edge_index = data.pos_edge_label_index\n",
    "    neg_edge_index = data.neg_edge_label_index\n",
    "    \n",
    "    pos_out = (z[pos_edge_index[0]] * z[pos_edge_index[1]]).sum(dim=1)\n",
    "    neg_out = (z[neg_edge_index[0]] * z[neg_edge_index[1]]).sum(dim=1)\n",
    "    \n",
    "    # Labels\n",
    "    pos_label = torch.ones(pos_out.size(0))\n",
    "    neg_label = torch.zeros(neg_out.size(0))\n",
    "    \n",
    "    out = torch.cat([pos_out, neg_out], dim=0)\n",
    "    label = torch.cat([pos_label, neg_label], dim=0)\n",
    "    \n",
    "    # Calculate ROC AUC score\n",
    "    auc = metrics.roc_auc_score(label.cpu().numpy(), out.cpu().numpy())\n",
    "    return auc"
   ]
  },
  {
   "cell_type": "code",
   "execution_count": 391,
   "id": "ba8681e3",
   "metadata": {},
   "outputs": [
    {
     "name": "stdout",
     "output_type": "stream",
     "text": [
      "Epoch: 010, Loss: 0.8859, Validation AUC: 0.9624\n",
      "Epoch: 020, Loss: 0.5367, Validation AUC: 0.9618\n",
      "Epoch: 030, Loss: 0.5317, Validation AUC: 0.9623\n",
      "Epoch: 040, Loss: 0.5287, Validation AUC: 0.9630\n",
      "Epoch: 050, Loss: 0.5276, Validation AUC: 0.9630\n"
     ]
    }
   ],
   "source": [
    "epochs = 50\n",
    "for epoch in range(1, epochs + 1):\n",
    "    loss = train()\n",
    "    if epoch % 10 == 0:\n",
    "        val_auc = test(val_data)\n",
    "        print(f\"Epoch: {epoch:03d}, Loss: {loss:.4f}, Validation AUC: {val_auc:.4f}\")"
   ]
  },
  {
   "cell_type": "code",
   "execution_count": 392,
   "id": "7c09b5dd",
   "metadata": {},
   "outputs": [
    {
     "name": "stdout",
     "output_type": "stream",
     "text": [
      "Test AUC: 0.9672\n"
     ]
    }
   ],
   "source": [
    "test_auc = test(test_data)\n",
    "print(f\"Test AUC: {test_auc:.4f}\")"
   ]
  },
  {
   "cell_type": "code",
   "execution_count": 393,
   "id": "7f5beb3e",
   "metadata": {},
   "outputs": [],
   "source": [
    "@torch.no_grad()\n",
    "def predict_for_target_gene(target_gene_id, gene_mapping, compound_mapping, data):\n",
    "    model.eval()\n",
    "    # Generate node embeddings (z) using the trained model\n",
    "    z = model(data)\n",
    "    \n",
    "    # Get the embedding of the target gene\n",
    "    if target_gene_id in gene_mapping:\n",
    "        gene_index = gene_mapping[target_gene_id]  # Map gene name to node index\n",
    "    else:\n",
    "        print(\"Target gene not found in mapping.\")\n",
    "        return\n",
    "    \n",
    "    target_gene_embedding = z[gene_index].unsqueeze(0)  # Get the embedding for the target gene\n",
    "    \n",
    "    # Compare target gene embedding with all compound embeddings\n",
    "    compound_indices = torch.tensor(list(compound_mapping.values()))\n",
    "    compound_embeddings = z[compound_indices]\n",
    "    \n",
    "    # Compute dot product (similarity) between target gene and all compounds\n",
    "    similarities = torch.matmul(compound_embeddings, target_gene_embedding.T).squeeze()\n",
    "    \n",
    "    # Rank the compounds by similarity (higher similarity means stronger potential link)\n",
    "    top_k = 10  # Choose how many top predictions to return\n",
    "    top_k_indices = torch.topk(similarities, top_k).indices\n",
    "    \n",
    "    # Map the top compound indices back to compound names\n",
    "    reverse_compound_mapping = {v: k for k, v in compound_mapping.items()}\n",
    "    \n",
    "    print(f\"Top {top_k} predicted drugs for target gene '{target_gene_id}':\")\n",
    "    for idx in top_k_indices:\n",
    "        compound_node_id = compound_indices[idx].item()\n",
    "        compound_name = reverse_compound_mapping[compound_node_id]\n",
    "        similarity_score = similarities[idx].item()\n",
    "        print(f\"Compound: {compound_name}, Similarity score: {similarity_score:.4f}\")"
   ]
  },
  {
   "cell_type": "code",
   "execution_count": 402,
   "id": "4c438287",
   "metadata": {},
   "outputs": [
    {
     "name": "stdout",
     "output_type": "stream",
     "text": [
      "Top 10 predicted drugs for target gene 'Gene::3630':\n",
      "Compound: Compound::DB09341, Similarity score: 25.3869\n",
      "Compound: Compound::DB01373, Similarity score: 24.2335\n",
      "Compound: Compound::CHEBI:33704, Similarity score: 23.9705\n",
      "Compound: Compound::CHEBI:18186, Similarity score: 23.3798\n",
      "Compound: Compound::DB00898, Similarity score: 21.0437\n",
      "Compound: Compound::DB01593, Similarity score: 20.8333\n",
      "Compound: Compound::DB01234, Similarity score: 19.9081\n",
      "Compound: Compound::DB09140, Similarity score: 18.6631\n",
      "Compound: Compound::DB04540, Similarity score: 18.5006\n",
      "Compound: Compound::MESH:D004967, Similarity score: 18.0445\n"
     ]
    }
   ],
   "source": [
    "target_gene_id = 'Gene::3630' \n",
    "predict_for_target_gene(target_gene_id, gene_mapping, compound_mapping, test_data)"
   ]
  },
  {
   "cell_type": "code",
   "execution_count": 399,
   "id": "276cad4d",
   "metadata": {},
   "outputs": [],
   "source": [
    "def predict_for_target_disease(target_disease_id, dz_mapping, compound_mapping, model, data, k=10):\n",
    "    # Get the embedding of the target disease\n",
    "    if target_disease_id in dz_mapping:\n",
    "        disease_index = dz_mapping[target_disease_id]  # Map disease name to node index\n",
    "    else:\n",
    "        print(\"Target disease not found in mapping.\")\n",
    "        return\n",
    "    \n",
    "    disease_embedding = model(data)[disease_index].unsqueeze(0)  # Get the embedding for the target disease\n",
    "    \n",
    "    # Compare target disease embedding with all compound embeddings\n",
    "    compound_indices = torch.tensor(list(compound_mapping.values()), device=data.device)\n",
    "    compound_embeddings = model(data)[compound_indices]\n",
    "\n",
    "    # Compute dot product (similarity) between target disease and all compounds\n",
    "    similarities = torch.matmul(compound_embeddings, disease_embedding.T).squeeze()\n",
    "\n",
    "    # Rank the compounds by similarity (higher similarity means stronger potential link)\n",
    "    top_k_indices = torch.topk(similarities, k).indices\n",
    "\n",
    "    # Map the top compound indices back to compound names\n",
    "    reverse_compound_mapping = {v: k for k, v in compound_mapping.items()}\n",
    "\n",
    "    # Display the top-k compounds with their similarity scores\n",
    "    print(f\"Top {k} predicted drugs for target disease '{target_disease_id}':\")\n",
    "    for idx in top_k_indices:\n",
    "        compound_node_id = compound_indices[idx].item()\n",
    "        compound_name = reverse_compound_mapping[compound_node_id]\n",
    "        similarity_score = similarities[idx].item()\n",
    "        print(f\"Compound: {compound_name}, Similarity score: {similarity_score:.4f}\")\n"
   ]
  },
  {
   "cell_type": "code",
   "execution_count": 404,
   "id": "b7cff1be",
   "metadata": {},
   "outputs": [
    {
     "name": "stdout",
     "output_type": "stream",
     "text": [
      "Top 10 predicted drugs for target gene 'Disease::MESH:D008545':\n",
      "Compound: Compound::DB09341, Similarity score: 32.5077\n",
      "Compound: Compound::DB01373, Similarity score: 30.9982\n",
      "Compound: Compound::CHEBI:33704, Similarity score: 30.6467\n",
      "Compound: Compound::CHEBI:18186, Similarity score: 29.9532\n",
      "Compound: Compound::DB00898, Similarity score: 26.8225\n",
      "Compound: Compound::DB01593, Similarity score: 26.6728\n",
      "Compound: Compound::DB01234, Similarity score: 25.4039\n",
      "Compound: Compound::DB09140, Similarity score: 23.8226\n",
      "Compound: Compound::DB04540, Similarity score: 23.6440\n",
      "Compound: Compound::MESH:D004967, Similarity score: 23.0577\n"
     ]
    }
   ],
   "source": [
    "target_disease_id = 'Disease::MESH:D008545'  \n",
    "predict_for_target_gene(target_disease_id, dz_mapping, compound_mapping, test_data)"
   ]
  },
  {
   "cell_type": "code",
   "execution_count": null,
   "id": "3b07590c",
   "metadata": {},
   "outputs": [],
   "source": []
  },
  {
   "cell_type": "code",
   "execution_count": null,
   "id": "41a9dd0c",
   "metadata": {},
   "outputs": [],
   "source": []
  },
  {
   "cell_type": "code",
   "execution_count": null,
   "id": "552cf62c",
   "metadata": {},
   "outputs": [],
   "source": []
  }
 ],
 "metadata": {
  "kernelspec": {
   "display_name": "Python 3 (ipykernel)",
   "language": "python",
   "name": "python3"
  },
  "language_info": {
   "codemirror_mode": {
    "name": "ipython",
    "version": 3
   },
   "file_extension": ".py",
   "mimetype": "text/x-python",
   "name": "python",
   "nbconvert_exporter": "python",
   "pygments_lexer": "ipython3",
   "version": "3.11.4"
  }
 },
 "nbformat": 4,
 "nbformat_minor": 5
}
